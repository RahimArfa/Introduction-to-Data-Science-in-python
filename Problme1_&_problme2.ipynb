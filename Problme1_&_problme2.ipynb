{
  "nbformat": 4,
  "nbformat_minor": 0,
  "metadata": {
    "colab": {
      "private_outputs": true,
      "provenance": [],
      "authorship_tag": "ABX9TyMITKawldap1NNWOMT4/WFB"
    },
    "kernelspec": {
      "name": "python3",
      "display_name": "Python 3"
    },
    "language_info": {
      "name": "python"
    },
    "accelerator": "GPU",
    "gpuClass": "standard"
  },
  "cells": [
    {
      "cell_type": "code",
      "source": [
        "import pandas as pd\n",
        "import numpy as np\n",
        "import pylab as pl\n",
        "import matplotlib.pyplot as plt # 9\n",
        "from sklearn.linear_model import LogisticRegression # 17\n",
        "from sklearn.model_selection import train_test_split # 17\n",
        "from sklearn import metrics\n",
        "from sklearn.metrics import confusion_matrix # 23"
      ],
      "metadata": {
        "id": "xdMjMLQQAwtM"
      },
      "execution_count": null,
      "outputs": []
    },
    {
      "cell_type": "code",
      "source": [
        "# I prefer to import all the libraries at the beginning of coding. \n",
        "# When the coding gets long and I don't remember what libraries I have already imported, \n",
        "# it makes easy for me to check.\n",
        "# I add the cell number of the library used. like # 17 (it means I used this library in cells 17 and 23)"
      ],
      "metadata": {
        "id": "JjEBc4Z8-L0R"
      },
      "execution_count": null,
      "outputs": []
    },
    {
      "cell_type": "code",
      "source": [
        "df1= pd.read_csv('OscarsDemo.csv')\n",
        "print(df1)"
      ],
      "metadata": {
        "id": "wamDg_Z4nfsQ"
      },
      "execution_count": null,
      "outputs": []
    },
    {
      "cell_type": "code",
      "source": [
        "viz= df1['OscarNominations']\n",
        "viz.hist()\n",
        "plt.show()"
      ],
      "metadata": {
        "id": "KZgxAS-PoBWi"
      },
      "execution_count": null,
      "outputs": []
    },
    {
      "cell_type": "code",
      "source": [
        "df1.info()"
      ],
      "metadata": {
        "id": "h0ioImHU7Uav"
      },
      "execution_count": null,
      "outputs": []
    },
    {
      "cell_type": "code",
      "source": [
        "y = df1['Winner']\n",
        "x = df1['OscarNominations']\n",
        "x = x.values  #This line is not needed if there are more than one feature (that is only one x column)\n",
        "x = x.reshape(-1,1) #Same comment as above"
      ],
      "metadata": {
        "id": "Taku8Zk47guu"
      },
      "execution_count": null,
      "outputs": []
    },
    {
      "cell_type": "code",
      "source": [
        "plt.scatter(df1.OscarNominations, df1.Winner, color='blue')\n",
        "plt.xlabel(\"OscarsNominations\")\n",
        "plt.ylabel(\"movie won:1 & movie lost:0\")"
      ],
      "metadata": {
        "id": "DVJwzJtyoG5h"
      },
      "execution_count": null,
      "outputs": []
    },
    {
      "cell_type": "code",
      "source": [
        "# of course, I can use 'CDF' "
      ],
      "metadata": {
        "id": "ByIZW3j18B0c"
      },
      "execution_count": null,
      "outputs": []
    },
    {
      "cell_type": "code",
      "source": [
        "cdf = df1[['OscarNominations', 'Winner']]\n",
        "plt.scatter(cdf.OscarNominations, cdf.Winner, color='blue')\n",
        "plt.xlabel(\"OscarNominations\")\n",
        "plt.ylabel(\"movie won:1 & movie lost:0\")\n",
        "plt.show()"
      ],
      "metadata": {
        "id": "TNk-ez746m58"
      },
      "execution_count": null,
      "outputs": []
    },
    {
      "cell_type": "code",
      "source": [
        "# there is same resuts for both of them. \n",
        "# So, are both codes right?"
      ],
      "metadata": {
        "id": "kmZkiOR_8dRj"
      },
      "execution_count": null,
      "outputs": []
    },
    {
      "cell_type": "code",
      "source": [
        "## split data\n",
        "# To avoid overfitting we can use splitting the dataset into training and testing sets\n",
        "# 50 % training data – 50 % test data"
      ],
      "metadata": {
        "id": "eYb-d-TT92KS"
      },
      "execution_count": null,
      "outputs": []
    },
    {
      "cell_type": "code",
      "source": [
        "train_x, test_x, train_y, test_y = train_test_split(x, y, test_size=0.5, random_state=0)"
      ],
      "metadata": {
        "id": "RgXc_nlC97Dk"
      },
      "execution_count": null,
      "outputs": []
    },
    {
      "cell_type": "code",
      "source": [
        "model = LogisticRegression()"
      ],
      "metadata": {
        "id": "lxFH06NEHw2g"
      },
      "execution_count": null,
      "outputs": []
    },
    {
      "cell_type": "code",
      "source": [
        "model.fit(train_x, train_y)"
      ],
      "metadata": {
        "id": "Ump9nLbdH1ka"
      },
      "execution_count": null,
      "outputs": []
    },
    {
      "cell_type": "code",
      "source": [
        "model.intercept_"
      ],
      "metadata": {
        "id": "kQTFqqQIH4fp"
      },
      "execution_count": null,
      "outputs": []
    },
    {
      "cell_type": "code",
      "source": [
        "model.coef_"
      ],
      "metadata": {
        "id": "WTcWLRlAIBd5"
      },
      "execution_count": null,
      "outputs": []
    },
    {
      "cell_type": "code",
      "source": [
        "confusion_matrix(test_y, model.predict(test_x))"
      ],
      "metadata": {
        "id": "gkazrGc8ILeT"
      },
      "execution_count": null,
      "outputs": []
    },
    {
      "cell_type": "code",
      "source": [
        "cm = confusion_matrix(test_y, model.predict(test_x))\n",
        "\n",
        "fig, ax = plt.subplots(figsize=(3, 3))\n",
        "ax.imshow(cm)\n",
        "ax.grid(False)\n",
        "ax.xaxis.set(ticks=(0, 1), ticklabels=('Predicted 0s', 'Predicted 1s'))\n",
        "ax.yaxis.set(ticks=(0, 1), ticklabels=('Actual 0s', 'Actual 1s'))\n",
        "ax.set_ylim(1.5, -0.5),\n",
        "for i in range(2):\n",
        "    for j in range(2):\n",
        "        ax.text(j, i, cm[i, j], ha='center', va='center', color='black')\n",
        "plt.show()"
      ],
      "metadata": {
        "id": "kHT-fNfsIbXB"
      },
      "execution_count": null,
      "outputs": []
    },
    {
      "cell_type": "code",
      "source": [
        "# 50% test means we have 60 films for test from 120 films\n",
        "# From 60 films for test:\n",
        "# 45 films did not receive oscar and the model predicted true.\n",
        "# 4 films did not receive oscar and the model predicted false\n",
        "# 5 films received oscar and the model predicted false\n",
        "# 6 films received oscar and the model predicted true."
      ],
      "metadata": {
        "id": "pqlxJalSeezA"
      },
      "execution_count": null,
      "outputs": []
    },
    {
      "cell_type": "code",
      "source": [
        "confusion_matrix(y, model.predict(x))"
      ],
      "metadata": {
        "id": "YreZ36VhPR-S"
      },
      "execution_count": null,
      "outputs": []
    },
    {
      "cell_type": "code",
      "source": [
        "cm = confusion_matrix(y, model.predict(x))\n",
        "\n",
        "fig, ax = plt.subplots(figsize=(3, 3))\n",
        "ax.imshow(cm)\n",
        "ax.grid(False)\n",
        "ax.xaxis.set(ticks=(0, 1), ticklabels=('Predicted 0s', 'Predicted 1s'))\n",
        "ax.yaxis.set(ticks=(0, 1), ticklabels=('Actual 0s', 'Actual 1s'))\n",
        "ax.set_ylim(1.5, -0.5),\n",
        "for i in range(2):\n",
        "    for j in range(2):\n",
        "        ax.text(j, i, cm[i, j], ha='center', va='center', color='black')\n",
        "plt.show()"
      ],
      "metadata": {
        "id": "gB80fSkhSLs_"
      },
      "execution_count": null,
      "outputs": []
    },
    {
      "cell_type": "code",
      "source": [
        "# The model predicted:\n",
        "# 91 films true : No receive Oscar\n",
        "# 11 films true : receive Oscar\n",
        "# 13 films Not true : No receive Oscar\n",
        "# 5 films Not true : receive Oscar"
      ],
      "metadata": {
        "id": "4v0quxsSSi1E"
      },
      "execution_count": null,
      "outputs": []
    },
    {
      "cell_type": "code",
      "source": [
        "## 80 % training data – 20 % test data\n",
        "# It could be better to use new name for Model. Becuse It needs to Run all of cods every time.\n",
        "# Due to lightweight codding, it is possible to run all the codes every time."
      ],
      "metadata": {
        "id": "4yZkOI--Nb9A"
      },
      "execution_count": null,
      "outputs": []
    },
    {
      "cell_type": "code",
      "source": [
        "train_x, test_x, train_y, test_y = train_test_split(x, y, test_size=0.2, random_state=0)"
      ],
      "metadata": {
        "id": "9ZTMfInFNlPz"
      },
      "execution_count": null,
      "outputs": []
    },
    {
      "cell_type": "code",
      "source": [
        "model = LogisticRegression()\n",
        "model.fit(train_x, train_y)"
      ],
      "metadata": {
        "id": "QzN_ilFjPUEL"
      },
      "execution_count": null,
      "outputs": []
    },
    {
      "cell_type": "code",
      "source": [
        "model.intercept_"
      ],
      "metadata": {
        "id": "rRXX92mIP7z0"
      },
      "execution_count": null,
      "outputs": []
    },
    {
      "cell_type": "code",
      "source": [
        "model.coef_"
      ],
      "metadata": {
        "id": "aFZvyqYmP8S8"
      },
      "execution_count": null,
      "outputs": []
    },
    {
      "cell_type": "code",
      "source": [
        "confusion_matrix(test_y, model.predict(test_x))"
      ],
      "metadata": {
        "id": "tiOOet70QG0Y"
      },
      "execution_count": null,
      "outputs": []
    },
    {
      "cell_type": "code",
      "source": [
        "confusion_matrix(y, model.predict(x))"
      ],
      "metadata": {
        "id": "R3FZ4WfnXvEi"
      },
      "execution_count": null,
      "outputs": []
    },
    {
      "cell_type": "code",
      "source": [
        "## 90 % training data – 10 % test data"
      ],
      "metadata": {
        "id": "NJLFpb5QRDKH"
      },
      "execution_count": null,
      "outputs": []
    },
    {
      "cell_type": "code",
      "source": [
        "train_x, test_x, train_y, test_y = train_test_split(x, y, test_size=0.1, random_state=0)"
      ],
      "metadata": {
        "id": "QaMmG6CCRHyx"
      },
      "execution_count": null,
      "outputs": []
    },
    {
      "cell_type": "code",
      "source": [
        "model = LogisticRegression()\n",
        "model.fit(train_x, train_y)"
      ],
      "metadata": {
        "id": "Zf9PFg1tRW0O"
      },
      "execution_count": null,
      "outputs": []
    },
    {
      "cell_type": "code",
      "source": [
        "model.intercept_"
      ],
      "metadata": {
        "id": "ndi2orxYRozv"
      },
      "execution_count": null,
      "outputs": []
    },
    {
      "cell_type": "code",
      "source": [
        "model.coef_"
      ],
      "metadata": {
        "id": "wRTJ3WwkRr3V"
      },
      "execution_count": null,
      "outputs": []
    },
    {
      "cell_type": "code",
      "source": [
        "confusion_matrix(test_y, model.predict(test_x))"
      ],
      "metadata": {
        "id": "uvsgdQzfRuLY"
      },
      "execution_count": null,
      "outputs": []
    },
    {
      "cell_type": "code",
      "source": [
        "confusion_matrix(y, model.predict(x))"
      ],
      "metadata": {
        "id": "BQgnnDc3X1F0"
      },
      "execution_count": null,
      "outputs": []
    }
  ]
}